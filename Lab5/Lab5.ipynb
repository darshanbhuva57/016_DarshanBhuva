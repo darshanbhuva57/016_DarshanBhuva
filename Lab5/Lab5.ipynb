{
 "cells": [
  {
   "cell_type": "code",
   "execution_count": null,
   "metadata": {
    "_cell_guid": "79c7e3d0-c299-4dcb-8224-4455121ee9b0",
    "_uuid": "d629ff2d2480ee46fbb7e2d37f6b5fab8052498a",
    "colab": {},
    "colab_type": "code",
    "executionInfo": {
     "elapsed": 4165,
     "status": "ok",
     "timestamp": 1596557302344,
     "user": {
      "displayName": "Prof. Hariom Pandya",
      "photoUrl": "https://lh3.googleusercontent.com/a-/AOh14Ggt3sg6X_951s0boD3SSJvqRng4AQaC3MhTBtGQ9Q=s64",
      "userId": "16159546014304882594"
     },
     "user_tz": -330
    },
    "id": "v0BtAX1--7l_"
   },
   "outputs": [],
   "source": [
    "# Import Numpy & PyTorch\n",
    "import numpy as np\n",
    "import torch"
   ]
  },
  {
   "cell_type": "markdown",
   "metadata": {
    "_uuid": "34f006aa7eb4bbc683c39b7059021da900180908",
    "colab_type": "text",
    "id": "tUurNfvF-7mc"
   },
   "source": [
    "A tensor is a number, vector, matrix or any n-dimensional array."
   ]
  },
  {
   "cell_type": "markdown",
   "metadata": {
    "_uuid": "0b65b6bb4d15127b1d51f09abf616cfd29fa48b4",
    "colab_type": "text",
    "id": "DAOgSWEp-7oF"
   },
   "source": [
    "## Problem Statement"
   ]
  },
  {
   "cell_type": "markdown",
   "metadata": {
    "_uuid": "c1beecda01bc332596edd193cade30006e3f6cbf",
    "colab_type": "text",
    "id": "-Fi1M6pd-7oJ"
   },
   "source": [
    "We'll create a model that predicts crop yeilds for apples (*target variable*) by looking at the average temperature, rainfall and humidity (*input variables or features*) in different regions. \n",
    "\n",
    "Here's the training data:\n",
    "\n",
    ">Temp | Rain | Humidity | Prediction\n",
    ">--- | --- | --- | ---\n",
    "> 73 | 67 | 43 | 56\n",
    "> 91 | 88 | 64 | 81\n",
    "> 87 | 134 | 58 | 119\n",
    "> 102 | 43 | 37 | 22\n",
    "> 69 | 96 | 70 | 103\n",
    "\n",
    "In a **linear regression** model, each target variable is estimated to be a weighted sum of the input variables, offset by some constant, known as a bias :\n",
    "\n",
    "```\n",
    "yeild_apple  = w11 * temp + w12 * rainfall + w13 * humidity + b1\n",
    "```\n",
    "\n",
    "It means that the yield of apples is a linear or planar function of the temperature, rainfall & humidity.\n",
    "\n",
    "\n",
    "\n",
    "**Our objective**: Find a suitable set of *weights* and *biases* using the training data, to make accurate predictions."
   ]
  },
  {
   "cell_type": "markdown",
   "metadata": {
    "_uuid": "c24b8195c0e9c6e8e13e169d264484f1f9b3b1ae",
    "colab_type": "text",
    "id": "h0dmV2Fc-7oL"
   },
   "source": [
    "## Training Data\n",
    "The training data can be represented using 2 matrices (inputs and targets), each with one row per observation and one column for variable."
   ]
  },
  {
   "cell_type": "code",
   "execution_count": 4,
   "metadata": {
    "_uuid": "dfda99005fc6daf3a49ae1cdd427ccac0aa446b1",
    "colab": {},
    "colab_type": "code",
    "executionInfo": {
     "elapsed": 4147,
     "status": "ok",
     "timestamp": 1596557302348,
     "user": {
      "displayName": "Prof. Hariom Pandya",
      "photoUrl": "https://lh3.googleusercontent.com/a-/AOh14Ggt3sg6X_951s0boD3SSJvqRng4AQaC3MhTBtGQ9Q=s64",
      "userId": "16159546014304882594"
     },
     "user_tz": -330
    },
    "id": "MaIf33bV-7oN"
   },
   "outputs": [],
   "source": [
    "# Input (temp, rainfall, humidity)\n",
    "inputs = np.array([[73, 67, 43], \n",
    "                   [91, 88, 64], \n",
    "                   [87, 134, 58], \n",
    "                   [102, 43, 37], \n",
    "                   [69, 96, 70]], dtype='float32')"
   ]
  },
  {
   "cell_type": "code",
   "execution_count": 5,
   "metadata": {
    "_uuid": "bf56faf74f7e29c9ed7523308718a9ab1acc0667",
    "colab": {},
    "colab_type": "code",
    "executionInfo": {
     "elapsed": 4134,
     "status": "ok",
     "timestamp": 1596557302352,
     "user": {
      "displayName": "Prof. Hariom Pandya",
      "photoUrl": "https://lh3.googleusercontent.com/a-/AOh14Ggt3sg6X_951s0boD3SSJvqRng4AQaC3MhTBtGQ9Q=s64",
      "userId": "16159546014304882594"
     },
     "user_tz": -330
    },
    "id": "1tnPriBD-7oa"
   },
   "outputs": [],
   "source": [
    "# Target (apples)\n",
    "targets = np.array([[56], \n",
    "                    [81], \n",
    "                    [119], \n",
    "                    [22], \n",
    "                    [103]], dtype='float32')"
   ]
  },
  {
   "cell_type": "markdown",
   "metadata": {
    "_uuid": "70d48f83ae4fce7aba7dd78fd58dddc77c598bfd",
    "colab_type": "text",
    "id": "MyJm3YtE-7oo"
   },
   "source": [
    "Before we build a model, we need to convert inputs and targets to PyTorch tensors."
   ]
  },
  {
   "cell_type": "code",
   "execution_count": 4,
   "metadata": {
    "_uuid": "931c1bad8788e607fa100d4338e1b1fe120e2339",
    "colab": {},
    "colab_type": "code",
    "executionInfo": {
     "elapsed": 4106,
     "status": "ok",
     "timestamp": 1596557302357,
     "user": {
      "displayName": "Prof. Hariom Pandya",
      "photoUrl": "https://lh3.googleusercontent.com/a-/AOh14Ggt3sg6X_951s0boD3SSJvqRng4AQaC3MhTBtGQ9Q=s64",
      "userId": "16159546014304882594"
     },
     "user_tz": -330
    },
    "id": "KZyKnyCc-7oq"
   },
   "outputs": [],
   "source": [
    "# Convert inputs and targets to tensors\n"
   ]
  },
  {
   "cell_type": "markdown",
   "metadata": {
    "_uuid": "652647cd90bd0784ec4dc53472410f7358ee18c9",
    "colab_type": "text",
    "id": "y0RLCJnb-7o4"
   },
   "source": [
    "## Linear Regression Model (from scratch)\n",
    "\n",
    "The *weights* and *biases* can also be represented as matrices, initialized with random values. The first row of `w` and the first element of `b` are use to predict the first target variable i.e. yield for apples, and similarly the second for oranges."
   ]
  },
  {
   "cell_type": "code",
   "execution_count": 5,
   "metadata": {
    "_uuid": "6f788ae559355b3f01667be1554a5d2bdcade8db",
    "colab": {},
    "colab_type": "code",
    "executionInfo": {
     "elapsed": 4083,
     "status": "ok",
     "timestamp": 1596557302360,
     "user": {
      "displayName": "Prof. Hariom Pandya",
      "photoUrl": "https://lh3.googleusercontent.com/a-/AOh14Ggt3sg6X_951s0boD3SSJvqRng4AQaC3MhTBtGQ9Q=s64",
      "userId": "16159546014304882594"
     },
     "user_tz": -330
    },
    "id": "OjToROni-7o5"
   },
   "outputs": [],
   "source": [
    "# Weights and biases\n"
   ]
  },
  {
   "cell_type": "markdown",
   "metadata": {
    "_uuid": "3579a065997cae41f7f504916b6bc07878ac768c",
    "colab_type": "text",
    "id": "8qNNejI9-7pH"
   },
   "source": [
    "The *model* is simply a function that performs a matrix multiplication of the input `x` and the weights `w` (transposed) and adds the bias `b` (replicated for each observation).\n",
    "\n",
    "$$\n",
    "\\hspace{2.5cm} X \\hspace{1.1cm} \\times \\hspace{1.2cm} W^T \\hspace{1.2cm}  + \\hspace{1cm} b \\hspace{2cm}\n",
    "$$\n",
    "\n",
    "$$\n",
    "\\left[ \\begin{array}{cc}\n",
    "73 & 67 & 43 \\\\\n",
    "91 & 88 & 64 \\\\\n",
    "\\vdots & \\vdots & \\vdots \\\\\n",
    "69 & 96 & 70\n",
    "\\end{array} \\right]\n",
    "%\n",
    "\\times\n",
    "%\n",
    "\\left[ \\begin{array}{cc}\n",
    "w_{11} & w_{21} \\\\\n",
    "w_{12} & w_{22} \\\\\n",
    "w_{13} & w_{23}\n",
    "\\end{array} \\right]\n",
    "%\n",
    "+\n",
    "%\n",
    "\\left[ \\begin{array}{cc}\n",
    "b_{1} & b_{2} \\\\\n",
    "b_{1} & b_{2} \\\\\n",
    "\\vdots & \\vdots \\\\\n",
    "b_{1} & b_{2} \\\\\n",
    "\\end{array} \\right]\n",
    "$$"
   ]
  },
  {
   "cell_type": "code",
   "execution_count": 7,
   "metadata": {
    "_uuid": "b1119f5ae9688a5f31dba438c7f78ca382deb7e3",
    "colab": {},
    "colab_type": "code",
    "executionInfo": {
     "elapsed": 4075,
     "status": "ok",
     "timestamp": 1596557302364,
     "user": {
      "displayName": "Prof. Hariom Pandya",
      "photoUrl": "https://lh3.googleusercontent.com/a-/AOh14Ggt3sg6X_951s0boD3SSJvqRng4AQaC3MhTBtGQ9Q=s64",
      "userId": "16159546014304882594"
     },
     "user_tz": -330
    },
    "id": "5G_d0Ka--7pJ"
   },
   "outputs": [
    {
     "name": "stdout",
     "output_type": "stream",
     "text": [
      "(5, 4)\n"
     ]
    }
   ],
   "source": [
    "# Define the model\n",
    "mu = np.mean(inputs, 0)\n",
    "sigma = np.std(inputs, 0)\n",
    "#normalizing the input\n",
    "inputs = (inputs-mu) / sigma\n",
    "inputs = np.hstack((np.ones((targets.size,1)),inputs))\n",
    "print(inputs.shape)"
   ]
  },
  {
   "cell_type": "markdown",
   "metadata": {
    "_uuid": "8e0a4644cb1c4ed68a3bcf67a8a156341ac7c853",
    "colab_type": "text",
    "id": "nT94e2ZK-7pb"
   },
   "source": [
    "The matrix obtained by passing the input data to the model is a set of predictions for the target variables."
   ]
  },
  {
   "cell_type": "code",
   "execution_count": 8,
   "metadata": {
    "_uuid": "b042a3cf8f16f4c4380cccbac9d0892719c24190",
    "colab": {},
    "colab_type": "code",
    "executionInfo": {
     "elapsed": 4054,
     "status": "ok",
     "timestamp": 1596557302367,
     "user": {
      "displayName": "Prof. Hariom Pandya",
      "photoUrl": "https://lh3.googleusercontent.com/a-/AOh14Ggt3sg6X_951s0boD3SSJvqRng4AQaC3MhTBtGQ9Q=s64",
      "userId": "16159546014304882594"
     },
     "user_tz": -330
    },
    "id": "VUpnkKlO-7pd"
   },
   "outputs": [
    {
     "name": "stdout",
     "output_type": "stream",
     "text": [
      "[[0.25082446 0.94675294 0.18932038 0.17929141]]\n"
     ]
    }
   ],
   "source": [
    "rg = np.random.default_rng(12)\n",
    "w = rg.random((1, 4))\n",
    "print(w)"
   ]
  },
  {
   "cell_type": "code",
   "execution_count": 8,
   "metadata": {
    "_uuid": "5551ef933de7902c8b5a38ae3d8e4795cb244f38",
    "colab": {},
    "colab_type": "code",
    "executionInfo": {
     "elapsed": 4031,
     "status": "ok",
     "timestamp": 1596557302371,
     "user": {
      "displayName": "Prof. Hariom Pandya",
      "photoUrl": "https://lh3.googleusercontent.com/a-/AOh14Ggt3sg6X_951s0boD3SSJvqRng4AQaC3MhTBtGQ9Q=s64",
      "userId": "16159546014304882594"
     },
     "user_tz": -330
    },
    "id": "KuIPDbJV-7po"
   },
   "outputs": [],
   "source": [
    "# Compare with targets\n"
   ]
  },
  {
   "cell_type": "markdown",
   "metadata": {
    "_uuid": "2c4a9cf2b3c9152f2f832176bce9a87381e2419c",
    "colab_type": "text",
    "id": "Q-NuYiwI-7p4"
   },
   "source": [
    "Because we've started with random weights and biases, the model does not perform a good job of predicting the target varaibles."
   ]
  },
  {
   "cell_type": "markdown",
   "metadata": {
    "_uuid": "edaae7266f5d47c5e970e1438a812f10d8d35fb4",
    "colab_type": "text",
    "id": "hiNOZ2g1-7p7"
   },
   "source": [
    "## Loss Function\n",
    "\n",
    "We can compare the predictions with the actual targets, using the following method: \n",
    "* Calculate the difference between the two matrices (`preds` and `targets`).\n",
    "* Square all elements of the difference matrix to remove negative values.\n",
    "* Calculate the average of the elements in the resulting matrix.\n",
    "\n",
    "The result is a single number, known as the **mean squared error** (MSE)."
   ]
  },
  {
   "cell_type": "code",
   "execution_count": 9,
   "metadata": {
    "_uuid": "dbf5bca8cbf2a3831089b454c70469e3748e9682",
    "colab": {},
    "colab_type": "code",
    "executionInfo": {
     "elapsed": 4024,
     "status": "ok",
     "timestamp": 1596557302375,
     "user": {
      "displayName": "Prof. Hariom Pandya",
      "photoUrl": "https://lh3.googleusercontent.com/a-/AOh14Ggt3sg6X_951s0boD3SSJvqRng4AQaC3MhTBtGQ9Q=s64",
      "userId": "16159546014304882594"
     },
     "user_tz": -330
    },
    "id": "_wY9fW06-7p9"
   },
   "outputs": [],
   "source": [
    "# MSE loss\n",
    "def mse(t1, t2):\n",
    "    diff = t1 - t2\n",
    "    return np.sum(diff * diff) / diff.size"
   ]
  },
  {
   "cell_type": "code",
   "execution_count": 13,
   "metadata": {
    "_uuid": "90da6779aad81608c40cdca77c3c04b68a815c11",
    "colab": {},
    "colab_type": "code",
    "executionInfo": {
     "elapsed": 4000,
     "status": "ok",
     "timestamp": 1596557302378,
     "user": {
      "displayName": "Prof. Hariom Pandya",
      "photoUrl": "https://lh3.googleusercontent.com/a-/AOh14Ggt3sg6X_951s0boD3SSJvqRng4AQaC3MhTBtGQ9Q=s64",
      "userId": "16159546014304882594"
     },
     "user_tz": -330
    },
    "id": "V__m5zOU-7qH"
   },
   "outputs": [
    {
     "name": "stdout",
     "output_type": "stream",
     "text": [
      "Cost before regression:  6961.124340607171\n"
     ]
    }
   ],
   "source": [
    "# Compute loss\n",
    "preds = model(inputs,w)\n",
    "cost_initial = mse(preds, targets)\n",
    "print(\"Cost before regression: \",cost_initial)"
   ]
  },
  {
   "cell_type": "code",
   "execution_count": 12,
   "metadata": {},
   "outputs": [],
   "source": [
    "def model(x,w):\n",
    "    return x @ w.T"
   ]
  },
  {
   "cell_type": "markdown",
   "metadata": {
    "_uuid": "3ab3acadf389f30430b55c26c7979dcffaa974a5",
    "colab_type": "text",
    "id": "j-TOY_7g-7qS"
   },
   "source": [
    "The resulting number is called the **loss**, because it indicates how bad the model is at predicting the target variables. Lower the loss, better the model. "
   ]
  },
  {
   "cell_type": "markdown",
   "metadata": {
    "_uuid": "c61acf9c3cff205d769fc52ed3b1b76f5ae66233",
    "colab_type": "text",
    "id": "kbQQKg0_-7qU"
   },
   "source": [
    "## Compute Gradients\n",
    "\n",
    "With PyTorch, we can automatically compute the gradient or derivative of the `loss` w.r.t. to the weights and biases, because they have `requires_grad` set to `True`.\n",
    "\n",
    "More on autograd:  https://pytorch.org/docs/stable/autograd.html#module-torch.autograd"
   ]
  },
  {
   "cell_type": "code",
   "execution_count": 17,
   "metadata": {
    "_uuid": "ef66710c6ef1944567c4dc033e1ca316f35490ab",
    "colab": {},
    "colab_type": "code",
    "executionInfo": {
     "elapsed": 3991,
     "status": "ok",
     "timestamp": 1596557302380,
     "user": {
      "displayName": "Prof. Hariom Pandya",
      "photoUrl": "https://lh3.googleusercontent.com/a-/AOh14Ggt3sg6X_951s0boD3SSJvqRng4AQaC3MhTBtGQ9Q=s64",
      "userId": "16159546014304882594"
     },
     "user_tz": -330
    },
    "id": "jMUIxzeO-7qW"
   },
   "outputs": [],
   "source": [
    "# Compute gradients\n",
    "def gradient_descent(X, y, w, learning_rate, n_iters):\n",
    "    J_history = np.zeros((n_iters,1))\n",
    "    for i in range(n_iters):\n",
    "        h = model(X,w)\n",
    "        diff = h - y\n",
    "        delta = (learning_rate/targets.size)*(X.T@diff)\n",
    "        new_w = w - delta.T\n",
    "        w=new_w\n",
    "        J_history[i] = mse(h, y)\n",
    "    return (J_history, w)"
   ]
  },
  {
   "cell_type": "markdown",
   "metadata": {
    "_uuid": "6504cddcfb4bfb0817bf03ef460f08f3145a9091",
    "colab_type": "text",
    "id": "CtacVbsp-7qk"
   },
   "source": [
    "The gradients are stored in the `.grad` property of the respective tensors."
   ]
  },
  {
   "cell_type": "code",
   "execution_count": 12,
   "metadata": {
    "_uuid": "5943d1cef604a178c95f5e8d255519d42d9f9982",
    "colab": {},
    "colab_type": "code",
    "executionInfo": {
     "elapsed": 3966,
     "status": "ok",
     "timestamp": 1596557302382,
     "user": {
      "displayName": "Prof. Hariom Pandya",
      "photoUrl": "https://lh3.googleusercontent.com/a-/AOh14Ggt3sg6X_951s0boD3SSJvqRng4AQaC3MhTBtGQ9Q=s64",
      "userId": "16159546014304882594"
     },
     "user_tz": -330
    },
    "id": "RWG8jqkG-7qo"
   },
   "outputs": [],
   "source": [
    "# Gradients for weights\n"
   ]
  },
  {
   "cell_type": "code",
   "execution_count": 13,
   "metadata": {
    "_uuid": "47278e318b156c6a5812e0842dbc4164c8362562",
    "colab": {},
    "colab_type": "code",
    "executionInfo": {
     "elapsed": 3944,
     "status": "ok",
     "timestamp": 1596557302384,
     "user": {
      "displayName": "Prof. Hariom Pandya",
      "photoUrl": "https://lh3.googleusercontent.com/a-/AOh14Ggt3sg6X_951s0boD3SSJvqRng4AQaC3MhTBtGQ9Q=s64",
      "userId": "16159546014304882594"
     },
     "user_tz": -330
    },
    "id": "SzeDazjr-7qx"
   },
   "outputs": [],
   "source": [
    "# Gradients for bias\n"
   ]
  },
  {
   "cell_type": "markdown",
   "metadata": {
    "_uuid": "466dc3a2cc2d4bd2c10ae4cf59cf4627b5cc9c75",
    "colab_type": "text",
    "id": "6HohuU-I-7q_"
   },
   "source": [
    "A key insight from calculus is that the gradient indicates the rate of change of the loss, or the slope of the loss function w.r.t. the weights and biases. \n",
    "\n",
    "* If a gradient element is **postive**, \n",
    "    * **increasing** the element's value slightly will **increase** the loss.\n",
    "    * **decreasing** the element's value slightly will **decrease** the loss.\n",
    "\n",
    "\n",
    "\n",
    "\n",
    "* If a gradient element is **negative**,\n",
    "    * **increasing** the element's value slightly will **decrease** the loss.\n",
    "    * **decreasing** the element's value slightly will **increase** the loss.\n",
    "    \n",
    "\n",
    "\n",
    "The increase or decrease is proportional to the value of the gradient."
   ]
  },
  {
   "cell_type": "markdown",
   "metadata": {
    "_uuid": "35ed968bfc135bd44eeb100ae401d0628fbc5c63",
    "colab_type": "text",
    "id": "oRgBMWgV-7rB"
   },
   "source": [
    "Finally, we'll reset the gradients to zero before moving forward, because PyTorch accumulates gradients."
   ]
  },
  {
   "cell_type": "code",
   "execution_count": 13,
   "metadata": {
    "_uuid": "5f02dc376c21857d4e545d98413952c5ac73039b",
    "colab": {},
    "colab_type": "code",
    "executionInfo": {
     "elapsed": 3929,
     "status": "ok",
     "timestamp": 1596557302387,
     "user": {
      "displayName": "Prof. Hariom Pandya",
      "photoUrl": "https://lh3.googleusercontent.com/a-/AOh14Ggt3sg6X_951s0boD3SSJvqRng4AQaC3MhTBtGQ9Q=s64",
      "userId": "16159546014304882594"
     },
     "user_tz": -330
    },
    "id": "lwkeQev0-7rD"
   },
   "outputs": [],
   "source": []
  },
  {
   "cell_type": "markdown",
   "metadata": {
    "_uuid": "5501c66c9729c4954e9b798a0634a9d84487e639",
    "colab_type": "text",
    "id": "pjKbQIcT-7rN"
   },
   "source": [
    "## Adjust weights and biases using gradient descent\n",
    "\n",
    "We'll reduce the loss and improve our model using the gradient descent algorithm, which has the following steps:\n",
    "\n",
    "1. Generate predictions\n",
    "2. Calculate the loss\n",
    "3. Compute gradients w.r.t the weights and biases\n",
    "4. Adjust the weights by subtracting a small quantity proportional to the gradient\n",
    "5. Reset the gradients to zero"
   ]
  },
  {
   "cell_type": "code",
   "execution_count": 14,
   "metadata": {
    "_uuid": "ef0d2bd2d9c5acb60992e238439ee00c2223319f",
    "colab": {},
    "colab_type": "code",
    "executionInfo": {
     "elapsed": 3913,
     "status": "ok",
     "timestamp": 1596557302390,
     "user": {
      "displayName": "Prof. Hariom Pandya",
      "photoUrl": "https://lh3.googleusercontent.com/a-/AOh14Ggt3sg6X_951s0boD3SSJvqRng4AQaC3MhTBtGQ9Q=s64",
      "userId": "16159546014304882594"
     },
     "user_tz": -330
    },
    "id": "NbJYF_oB-7rP"
   },
   "outputs": [],
   "source": [
    "# Generate predictions\n"
   ]
  },
  {
   "cell_type": "code",
   "execution_count": 15,
   "metadata": {
    "_uuid": "302ee8226da4ee5d0dad137c638573a79f8abded",
    "colab": {},
    "colab_type": "code",
    "executionInfo": {
     "elapsed": 3896,
     "status": "ok",
     "timestamp": 1596557302392,
     "user": {
      "displayName": "Prof. Hariom Pandya",
      "photoUrl": "https://lh3.googleusercontent.com/a-/AOh14Ggt3sg6X_951s0boD3SSJvqRng4AQaC3MhTBtGQ9Q=s64",
      "userId": "16159546014304882594"
     },
     "user_tz": -330
    },
    "id": "yt9A0Bzw-7rb"
   },
   "outputs": [],
   "source": [
    "# Calculate the loss\n"
   ]
  },
  {
   "cell_type": "code",
   "execution_count": 16,
   "metadata": {
    "_uuid": "01c596aecf87e4670033ddd4ed36e26b97e2f9ab",
    "colab": {},
    "colab_type": "code",
    "executionInfo": {
     "elapsed": 3896,
     "status": "ok",
     "timestamp": 1596557302399,
     "user": {
      "displayName": "Prof. Hariom Pandya",
      "photoUrl": "https://lh3.googleusercontent.com/a-/AOh14Ggt3sg6X_951s0boD3SSJvqRng4AQaC3MhTBtGQ9Q=s64",
      "userId": "16159546014304882594"
     },
     "user_tz": -330
    },
    "id": "X3U2apNf-7rp"
   },
   "outputs": [],
   "source": [
    "# Compute gradients\n"
   ]
  },
  {
   "cell_type": "code",
   "execution_count": 17,
   "metadata": {
    "_uuid": "ec1e2bdc8f91523e556fad55ee8c01eb5431ae24",
    "colab": {},
    "colab_type": "code",
    "executionInfo": {
     "elapsed": 3895,
     "status": "ok",
     "timestamp": 1596557302405,
     "user": {
      "displayName": "Prof. Hariom Pandya",
      "photoUrl": "https://lh3.googleusercontent.com/a-/AOh14Ggt3sg6X_951s0boD3SSJvqRng4AQaC3MhTBtGQ9Q=s64",
      "userId": "16159546014304882594"
     },
     "user_tz": -330
    },
    "id": "Gi8Iw67j-7rz"
   },
   "outputs": [],
   "source": [
    "# Adjust weights & reset gradients\n"
   ]
  },
  {
   "cell_type": "code",
   "execution_count": 18,
   "metadata": {
    "_uuid": "1d61b6f61f49b19099d29d1be8ec5ae4967bbd51",
    "colab": {},
    "colab_type": "code",
    "executionInfo": {
     "elapsed": 3878,
     "status": "ok",
     "timestamp": 1596557302408,
     "user": {
      "displayName": "Prof. Hariom Pandya",
      "photoUrl": "https://lh3.googleusercontent.com/a-/AOh14Ggt3sg6X_951s0boD3SSJvqRng4AQaC3MhTBtGQ9Q=s64",
      "userId": "16159546014304882594"
     },
     "user_tz": -330
    },
    "id": "sB17H1hr-7sD"
   },
   "outputs": [],
   "source": [
    "#print(w)"
   ]
  },
  {
   "cell_type": "markdown",
   "metadata": {
    "_uuid": "6af10c29db7cb0d6e869b2c30966a34a48a011e2",
    "colab_type": "text",
    "id": "YbNSWsxh-7so"
   },
   "source": [
    "With the new weights and biases, the model should have a lower loss."
   ]
  },
  {
   "cell_type": "code",
   "execution_count": 19,
   "metadata": {
    "_uuid": "c542b5fe75d82454f34cac13cdcff8b48dd1945c",
    "colab": {},
    "colab_type": "code",
    "executionInfo": {
     "elapsed": 3863,
     "status": "ok",
     "timestamp": 1596557302412,
     "user": {
      "displayName": "Prof. Hariom Pandya",
      "photoUrl": "https://lh3.googleusercontent.com/a-/AOh14Ggt3sg6X_951s0boD3SSJvqRng4AQaC3MhTBtGQ9Q=s64",
      "userId": "16159546014304882594"
     },
     "user_tz": -330
    },
    "id": "tzhhX8xh-7su"
   },
   "outputs": [],
   "source": [
    "# Calculate loss\n"
   ]
  },
  {
   "cell_type": "markdown",
   "metadata": {
    "_uuid": "5201901695f3ea13d7fdd5d985da7e0761c541d0",
    "colab_type": "text",
    "id": "JvUhV8nQ-7s9"
   },
   "source": [
    "## Train for multiple epochs\n",
    "\n",
    "To reduce the loss further, we repeat the process of adjusting the weights and biases using the gradients multiple times. Each iteration is called an epoch."
   ]
  },
  {
   "cell_type": "code",
   "execution_count": 23,
   "metadata": {
    "_uuid": "9f5f0ffeee666b30c5828636359f0be6addbef7c",
    "colab": {},
    "colab_type": "code",
    "executionInfo": {
     "elapsed": 3860,
     "status": "ok",
     "timestamp": 1596557302416,
     "user": {
      "displayName": "Prof. Hariom Pandya",
      "photoUrl": "https://lh3.googleusercontent.com/a-/AOh14Ggt3sg6X_951s0boD3SSJvqRng4AQaC3MhTBtGQ9Q=s64",
      "userId": "16159546014304882594"
     },
     "user_tz": -330
    },
    "id": "rX0ZllBO-7tJ"
   },
   "outputs": [
    {
     "name": "stdout",
     "output_type": "stream",
     "text": [
      "Initial cost is:  6961.124340607171 \n",
      "\n",
      "Optimal parameters are: \n",
      " [[75.70097746 -4.33569711 23.97784973 10.64122441]] \n",
      "\n",
      "Final cost is:  [3.24336209]\n"
     ]
    }
   ],
   "source": [
    "import matplotlib.pyplot as plt\n",
    "n_iters = 500\n",
    "learning_rate = 0.01\n",
    "\n",
    "initial_cost = mse(model(inputs,w),targets)\n",
    "\n",
    "print(\"Initial cost is: \", initial_cost, \"\\n\")\n",
    "\n",
    "(J_history, optimal_params) = gradient_descent(inputs, targets, w, learning_rate, n_iters)\n",
    "\n",
    "print(\"Optimal parameters are: \\n\", optimal_params, \"\\n\")\n",
    "\n",
    "print(\"Final cost is: \", J_history[-1])"
   ]
  },
  {
   "cell_type": "code",
   "execution_count": 19,
   "metadata": {
    "_uuid": "c4820ca48b78f4dc242d80a9ec3ec6aca1aef671",
    "colab": {},
    "colab_type": "code",
    "executionInfo": {
     "elapsed": 3842,
     "status": "ok",
     "timestamp": 1596557302418,
     "user": {
      "displayName": "Prof. Hariom Pandya",
      "photoUrl": "https://lh3.googleusercontent.com/a-/AOh14Ggt3sg6X_951s0boD3SSJvqRng4AQaC3MhTBtGQ9Q=s64",
      "userId": "16159546014304882594"
     },
     "user_tz": -330
    },
    "id": "ym2eslp8-7ta"
   },
   "outputs": [
    {
     "data": {
      "image/png": "[encoded data removed]",
      "text/plain": [
       "<Figure size 432x288 with 1 Axes>"
      ]
     },
     "metadata": {
      "needs_background": "light"
     },
     "output_type": "display_data"
    }
   ],
   "source": [
    "plt.plot(range(len(J_history)), J_history, 'r')\n",
    "\n",
    "plt.title(\"Convergence Graph of Cost Function\")\n",
    "plt.xlabel(\"Number of Iterations\")\n",
    "plt.ylabel(\"Cost\")\n",
    "plt.show()"
   ]
  },
  {
   "cell_type": "code",
   "execution_count": 21,
   "metadata": {
    "_uuid": "bbcd65fa7094cec187565e54c2107e683bea787b",
    "colab": {},
    "colab_type": "code",
    "executionInfo": {
     "elapsed": 3825,
     "status": "ok",
     "timestamp": 1596557302418,
     "user": {
      "displayName": "Prof. Hariom Pandya",
      "photoUrl": "https://lh3.googleusercontent.com/a-/AOh14Ggt3sg6X_951s0boD3SSJvqRng4AQaC3MhTBtGQ9Q=s64",
      "userId": "16159546014304882594"
     },
     "user_tz": -330
    },
    "id": "l7z9q9g9-7to"
   },
   "outputs": [
    {
     "name": "stdout",
     "output_type": "stream",
     "text": [
      "Prediction:\n",
      " [[ 55.41796548]\n",
      " [ 83.39462719]\n",
      " [116.02114736]\n",
      " [ 20.94681904]\n",
      " [102.72432753]]\n",
      "Targets:\n",
      " [[ 56.]\n",
      " [ 81.]\n",
      " [119.]\n",
      " [ 22.]\n",
      " [103.]]\n"
     ]
    }
   ],
   "source": [
    "# Calculate error\n",
    "preds = model(inputs,optimal_params)\n",
    "cost_final = mse(preds, targets)\n",
    "# Print predictions\n",
    "print(\"Prediction:\\n\",preds)\n",
    "# Comparing predicted with targets\n",
    "print(\"Targets:\\n\",targets)"
   ]
  },
  {
   "cell_type": "code",
   "execution_count": 22,
   "metadata": {
    "_uuid": "addec2c4eca8edfcae5544ea2cc717182c21d90f",
    "colab": {},
    "colab_type": "code",
    "executionInfo": {
     "elapsed": 3807,
     "status": "ok",
     "timestamp": 1596557302420,
     "user": {
      "displayName": "Prof. Hariom Pandya",
      "photoUrl": "https://lh3.googleusercontent.com/a-/AOh14Ggt3sg6X_951s0boD3SSJvqRng4AQaC3MhTBtGQ9Q=s64",
      "userId": "16159546014304882594"
     },
     "user_tz": -330
    },
    "id": "tEjLn-IO-7ty"
   },
   "outputs": [
    {
     "name": "stdout",
     "output_type": "stream",
     "text": [
      "Cost after linear regression:  3.2263504141825856\n",
      "Cost reduction percentage : 99.95365187782436 %\n"
     ]
    }
   ],
   "source": [
    "# Print targets\n",
    "print(\"Cost after linear regression: \",cost_final)\n",
    "print(\"Cost reduction percentage : {} %\".format(((cost_initial- cost_final)/cost_initial)*100))"
   ]
  },
  {
   "cell_type": "code",
   "execution_count": null,
   "metadata": {},
   "outputs": [],
   "source": []
  }
 ],
 "metadata": {
  "colab": {
   "name": "1-linear-regression.ipynb",
   "provenance": []
  },
  "kernelspec": {
   "display_name": "Python 3 (ipykernel)",
   "language": "python",
   "name": "python3"
  },
  "language_info": {
   "codemirror_mode": {
    "name": "ipython",
    "version": 3
   },
   "file_extension": ".py",
   "mimetype": "text/x-python",
   "name": "python",
   "nbconvert_exporter": "python",
   "pygments_lexer": "ipython3",
   "version": "3.9.3"
  }
 },
 "nbformat": 4,
 "nbformat_minor": 1
}
