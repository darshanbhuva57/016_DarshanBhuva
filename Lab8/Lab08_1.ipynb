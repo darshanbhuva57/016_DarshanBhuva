{
  "nbformat": 4,
  "nbformat_minor": 0,
  "metadata": {
    "colab": {
      "name": "Lab08-1.ipynb",
      "provenance": []
    },
    "kernelspec": {
      "name": "python3",
      "display_name": "Python 3"
    },
    "language_info": {
      "name": "python"
    }
  },
  "cells": [
    {
      "cell_type": "code",
      "metadata": {
        "id": "WHkoZkqr9kN3"
      },
      "source": [
        "import numpy as np \n",
        "import pandas as pd \n",
        "from sklearn import datasets\n",
        "from sklearn.cluster import KMeans\n",
        "import matplotlib.pyplot as plt"
      ],
      "execution_count": 1,
      "outputs": []
    },
    {
      "cell_type": "code",
      "metadata": {
        "colab": {
          "base_uri": "https://localhost:8080/"
        },
        "id": "qaIRmcMB9vZt",
        "outputId": "e2477796-ee21-43cf-f872-58596fd4577e"
      },
      "source": [
        "dataset=datasets.load_breast_cancer()\n",
        "dataset\n",
        "\n",
        "print(dataset.data.shape)\n",
        "print(dataset.target.shape)"
      ],
      "execution_count": 2,
      "outputs": [
        {
          "output_type": "stream",
          "name": "stdout",
          "text": [
            "(569, 30)\n",
            "(569,)\n"
          ]
        }
      ]
    },
    {
      "cell_type": "markdown",
      "metadata": {
        "id": "iA0vv7cB90KV"
      },
      "source": [
        "# K-Mean Model"
      ]
    },
    {
      "cell_type": "code",
      "metadata": {
        "colab": {
          "base_uri": "https://localhost:8080/"
        },
        "id": "zOK5VQAG9vb6",
        "outputId": "96a1ea60-7f8c-4879-82bb-52875aaf7144"
      },
      "source": [
        "kmeans = KMeans(n_clusters=10, random_state=16)\n",
        "prediction = kmeans.fit_predict(dataset.data)\n",
        "print(prediction)\n",
        "\n",
        "kmeans.cluster_centers_.shape\n",
        "print(kmeans.cluster_centers_)"
      ],
      "execution_count": 8,
      "outputs": [
        {
          "output_type": "stream",
          "name": "stdout",
          "text": [
            "[1 1 9 8 9 4 9 4 4 4 2 5 5 2 4 2 2 5 6 4 8 0 2 6 1 5 4 5 5 5 9 4 5 1 5 5 4\n",
            " 8 4 4 4 8 9 4 4 9 0 4 8 4 8 4 8 5 2 8 1 2 8 0 0 0 2 0 4 2 0 8 0 8 1 0 9 4\n",
            " 8 5 8 9 9 8 8 8 6 5 8 9 4 9 8 4 4 4 4 4 2 9 8 0 8 4 4 0 8 0 0 4 8 8 6 8 0\n",
            " 8 4 0 0 8 0 2 5 5 8 9 6 4 8 4 4 9 4 9 8 2 5 2 9 8 8 8 2 0 0 5 8 8 0 8 8 4\n",
            " 4 4 8 0 0 0 4 8 5 2 8 8 8 9 1 8 6 4 0 5 9 4 8 2 2 0 0 0 0 2 8 8 3 1 5 8 2\n",
            " 0 5 8 8 8 4 8 0 4 4 8 4 5 9 2 8 5 1 2 8 2 0 5 8 2 9 8 3 2 4 4 8 0 1 6 4 4\n",
            " 0 2 4 4 0 4 8 4 5 8 8 1 0 4 3 1 4 5 4 8 8 4 9 0 8 8 0 8 1 8 1 5 1 4 1 2 5\n",
            " 2 1 5 5 2 5 3 0 4 8 0 4 8 6 0 5 8 8 5 4 4 9 8 9 2 8 8 8 8 0 8 4 4 8 8 8 4\n",
            " 0 8 4 0 1 8 9 0 8 8 8 0 4 4 8 4 8 8 0 8 8 9 0 8 0 9 8 1 8 8 4 8 2 2 2 8 0\n",
            " 8 8 5 8 1 0 3 4 0 0 9 8 0 8 4 8 8 8 2 3 2 8 8 8 4 0 0 8 8 8 2 4 1 9 8 3 6\n",
            " 5 4 9 1 4 2 0 4 4 8 8 0 8 8 8 4 8 4 8 5 0 0 5 1 8 4 4 8 8 8 5 8 8 8 8 8 2\n",
            " 8 5 8 8 8 0 4 2 8 0 9 8 8 8 4 8 4 0 0 0 8 0 8 4 8 9 9 4 4 8 4 4 4 8 5 4 0\n",
            " 5 8 5 4 4 1 8 9 8 4 8 4 8 8 8 0 9 7 4 8 4 4 4 0 5 8 0 8 2 8 0 8 4 4 8 2 8\n",
            " 4 4 4 2 8 4 9 8 2 8 5 5 8 8 4 8 8 9 1 4 4 8 3 0 0 8 0 2 2 8 4 4 4 2 8 9 9\n",
            " 8 8 0 6 0 4 0 0 4 8 4 8 8 8 4 9 0 1 4 8 0 0 8 4 4 8 4 4 0 0 0 8 0 0 8 0 8\n",
            " 0 0 0 4 8 4 0 2 1 1 9 2 1 0]\n",
            "[[9.87515385e+00 1.78310989e+01 6.31275824e+01 2.99732967e+02\n",
            "  9.64635165e-02 8.09469231e-02 4.46973846e-02 1.89206154e-02\n",
            "  1.83812088e-01 6.83807692e-02 2.95191209e-01 1.51460549e+00\n",
            "  2.02103187e+00 1.79611868e+01 9.95848352e-03 2.56543407e-02\n",
            "  3.31990110e-02 1.02651538e-02 2.54141758e-02 4.97217582e-03\n",
            "  1.08238352e+01 2.29446154e+01 6.97957143e+01 3.58796703e+02\n",
            "  1.31465934e-01 1.64161758e-01 1.40192637e-01 5.34132967e-02\n",
            "  2.73173626e-01 8.52007692e-02]\n",
            " [2.01386207e+01 2.20455172e+01 1.33596552e+02 1.26502069e+03\n",
            "  1.03147241e-01 1.60555862e-01 1.98707241e-01 1.09868276e-01\n",
            "  1.93434483e-01 6.14668966e-02 7.29910345e-01 1.03602759e+00\n",
            "  5.11596552e+00 9.40031034e+01 6.11989655e-03 3.13441379e-02\n",
            "  4.33375862e-02 1.55809655e-02 1.74006897e-02 3.89089655e-03\n",
            "  2.52368966e+01 2.92944828e+01 1.68782759e+02 1.95055172e+03\n",
            "  1.44910345e-01 4.08272414e-01 5.21527586e-01 2.14465517e-01\n",
            "  3.20217241e-01 9.17593103e-02]\n",
            " [1.55076596e+01 2.02889362e+01 1.01703617e+02 7.45085106e+02\n",
            "  1.01014255e-01 1.26042553e-01 1.25749787e-01 6.61974468e-02\n",
            "  1.85621277e-01 6.26174468e-02 3.96329787e-01 1.04854043e+00\n",
            "  2.78789362e+00 3.79165957e+01 6.79355319e-03 2.84824255e-02\n",
            "  3.86385106e-02 1.36298936e-02 1.91948085e-02 3.68908511e-03\n",
            "  1.80527660e+01 2.75795745e+01 1.19876596e+02 9.99189362e+02\n",
            "  1.42285957e-01 3.36148085e-01 3.97378723e-01 1.52794468e-01\n",
            "  3.14157447e-01 8.93785106e-02]\n",
            " [2.41637500e+01 2.21550000e+01 1.60262500e+02 1.85287500e+03\n",
            "  1.02805000e-01 1.50402500e-01 2.23862500e-01 1.34338750e-01\n",
            "  1.76262500e-01 5.68037500e-02 1.30511250e+00 1.13863750e+00\n",
            "  9.23100000e+00 2.16412500e+02 6.63025000e-03 2.54150000e-02\n",
            "  3.75725000e-02 1.43175000e-02 2.07412500e-02 2.97225000e-03\n",
            "  3.12587500e+01 2.97012500e+01 2.09000000e+02 3.01950000e+03\n",
            "  1.38787500e-01 3.27350000e-01 4.46600000e-01 2.18300000e-01\n",
            "  2.77200000e-01 7.60325000e-02]\n",
            " [1.39659504e+01 1.90276860e+01 9.06880165e+01 6.02476860e+02\n",
            "  9.40809091e-02 1.01344711e-01 7.52669174e-02 4.20422479e-02\n",
            "  1.75569421e-01 6.17116529e-02 3.12926446e-01 1.07821405e+00\n",
            "  2.26504876e+00 2.71022314e+01 5.80057851e-03 2.43026281e-02\n",
            "  2.83313223e-02 1.12062562e-02 1.78177851e-02 3.50322149e-03\n",
            "  1.57508264e+01 2.55277686e+01 1.04067107e+02 7.61435537e+02\n",
            "  1.28438926e-01 2.66982975e-01 2.69127851e-01 1.14544628e-01\n",
            "  2.85159504e-01 8.48681818e-02]\n",
            " [1.72662222e+01 2.12826667e+01 1.13766667e+02 9.30031111e+02\n",
            "  9.96044444e-02 1.34278667e-01 1.40752222e-01 8.17808889e-02\n",
            "  1.90786667e-01 6.09995556e-02 5.76202222e-01 1.28895333e+00\n",
            "  4.13328889e+00 6.30108889e+01 6.40597778e-03 3.02990444e-02\n",
            "  3.75984444e-02 1.49950444e-02 2.00477778e-02 4.04933333e-03\n",
            "  2.05342222e+01 2.85542222e+01 1.36617778e+02 1.29620000e+03\n",
            "  1.38425333e-01 3.23276889e-01 3.89095556e-01 1.69770444e-01\n",
            "  3.12826667e-01 8.54171111e-02]\n",
            " [2.23900000e+01 2.28970000e+01 1.49780000e+02 1.55350000e+03\n",
            "  1.04809000e-01 1.86450000e-01 2.38690000e-01 1.31869000e-01\n",
            "  1.91560000e-01 6.13100000e-02 9.64110000e-01 1.34124000e+00\n",
            "  7.02100000e+00 1.36404000e+02 7.43360000e-03 4.35000000e-02\n",
            "  5.29780000e-02 1.62210000e-02 1.97720000e-02 4.39550000e-03\n",
            "  2.82590000e+01 3.06630000e+01 1.93520000e+02 2.41410000e+03\n",
            "  1.44270000e-01 4.35450000e-01 5.35780000e-01 2.31410000e-01\n",
            "  3.02550000e-01 8.73070000e-02]\n",
            " [2.74200000e+01 2.62700000e+01 1.86900000e+02 2.50100000e+03\n",
            "  1.08400000e-01 1.98800000e-01 3.63500000e-01 1.68900000e-01\n",
            "  2.06100000e-01 5.62300000e-02 2.54700000e+00 1.30600000e+00\n",
            "  1.86500000e+01 5.42200000e+02 7.65000000e-03 5.37400000e-02\n",
            "  8.05500000e-02 2.59800000e-02 1.69700000e-02 4.55800000e-03\n",
            "  3.60400000e+01 3.13700000e+01 2.51200000e+02 4.25400000e+03\n",
            "  1.35700000e-01 4.25600000e-01 6.83300000e-01 2.62500000e-01\n",
            "  2.64100000e-01 7.42700000e-02]\n",
            " [1.21455932e+01 1.81380226e+01 7.80731638e+01 4.54409605e+02\n",
            "  9.29466102e-02 7.94957062e-02 4.50697271e-02 2.58724633e-02\n",
            "  1.74355367e-01 6.23671751e-02 2.76933333e-01 1.19986271e+00\n",
            "  1.96683559e+00 2.05246328e+01 6.80219209e-03 2.03920169e-02\n",
            "  2.39684441e-02 9.61710734e-03 2.03990395e-02 3.30623446e-03\n",
            "  1.34072316e+01 2.42203955e+01 8.71858757e+01 5.49828814e+02\n",
            "  1.26831299e-01 1.92067401e-01 1.75194616e-01 7.76532260e-02\n",
            "  2.78178531e-01 7.95596045e-02]\n",
            " [1.91412500e+01 2.14325000e+01 1.26322500e+02 1.14027500e+03\n",
            "  1.00385250e-01 1.44530500e-01 1.70670250e-01 9.76695000e-02\n",
            "  1.94960000e-01 6.02197500e-02 7.11155000e-01 1.26410750e+00\n",
            "  4.91432500e+00 8.55975000e+01 6.85415000e-03 3.27335000e-02\n",
            "  4.45067500e-02 1.62432000e-02 2.29937500e-02 3.92512500e-03\n",
            "  2.30045000e+01 2.85045000e+01 1.53027500e+02 1.61350000e+03\n",
            "  1.38910000e-01 3.46300000e-01 4.40487500e-01 1.84557500e-01\n",
            "  3.20405000e-01 8.49905000e-02]]\n"
          ]
        }
      ]
    },
    {
      "cell_type": "code",
      "metadata": {
        "colab": {
          "base_uri": "https://localhost:8080/",
          "height": 197
        },
        "id": "WcQTbGc29vd8",
        "outputId": "e220f932-e15f-459a-99b9-e050b610e9db"
      },
      "source": [
        "# Scatter plot of the data points\n",
        "import matplotlib.pyplot as plt\n",
        "fig, ax = plt.subplots(2, 5, figsize=(8, 3))\n",
        "centers = kmeans.cluster_centers_.reshape(10, 6, 5)\n",
        "for axi, center in zip(ax.flat, centers):\n",
        "  axi.set(xticks=[], yticks=[])\n",
        "  axi.imshow(center, interpolation='nearest', cmap=plt.cm.binary)"
      ],
      "execution_count": 9,
      "outputs": [
        {
          "output_type": "display_data",
          "data": {
            "image/png": "[encoded data removed]",
            "text/plain": [
              "<Figure size 576x216 with 10 Axes>"
            ]
          },
          "metadata": {}
        }
      ]
    },
    {
      "cell_type": "code",
      "metadata": {
        "id": "vyx-kvrM9vfk"
      },
      "source": [
        "import numpy as np\n",
        "from scipy.stats import mode\n",
        "labels = np.zeros_like(prediction)\n",
        "for i in range(10):\n",
        "  mask = (prediction == i)\n",
        "  labels[mask] = mode(dataset.target[mask])[0]"
      ],
      "execution_count": 10,
      "outputs": []
    },
    {
      "cell_type": "code",
      "metadata": {
        "colab": {
          "base_uri": "https://localhost:8080/"
        },
        "id": "ctJHsR-L9vhb",
        "outputId": "90578522-346b-409d-e553-a3b5ed5e12a9"
      },
      "source": [
        "from sklearn.metrics import accuracy_score\n",
        "accuracy_score(dataset.target, labels)"
      ],
      "execution_count": 11,
      "outputs": [
        {
          "output_type": "execute_result",
          "data": {
            "text/plain": [
              "0.9086115992970123"
            ]
          },
          "metadata": {},
          "execution_count": 11
        }
      ]
    },
    {
      "cell_type": "code",
      "metadata": {
        "colab": {
          "base_uri": "https://localhost:8080/",
          "height": 279
        },
        "id": "J5lnS_O39_Cl",
        "outputId": "76302c50-9d0a-494b-f211-6d6fbd919150"
      },
      "source": [
        "from sklearn.metrics import confusion_matrix\n",
        "import seaborn as sns\n",
        "mat = confusion_matrix(dataset.target, labels)\n",
        "ax = sns.heatmap(mat.T, square=True, annot=True, fmt='d', cbar=False,xticklabels=dataset.target_names,yticklabels=dataset.target_names)\n",
        "\n",
        "#ax.set_ylim(10,10)\n",
        "plt.xlabel('true label')\n",
        "plt.ylabel('predicted label');"
      ],
      "execution_count": 12,
      "outputs": [
        {
          "output_type": "display_data",
          "data": {
            "image/png": "[encoded data removed]",
            "text/plain": [
              "<Figure size 432x288 with 1 Axes>"
            ]
          },
          "metadata": {
            "needs_background": "light"
          }
        }
      ]
    }
  ]
}